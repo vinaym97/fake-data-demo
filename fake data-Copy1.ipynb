{
 "cells": [
  {
   "cell_type": "code",
   "execution_count": 1,
   "metadata": {},
   "outputs": [],
   "source": [
    "import numpy as np\n",
    "import pandas as pd"
   ]
  },
  {
   "cell_type": "code",
   "execution_count": null,
   "metadata": {},
   "outputs": [],
   "source": [
    "!pip install Faker"
   ]
  },
  {
   "cell_type": "code",
   "execution_count": 2,
   "metadata": {},
   "outputs": [],
   "source": [
    "from faker import Faker"
   ]
  },
  {
   "cell_type": "markdown",
   "metadata": {},
   "source": [
    "Creating a dataset"
   ]
  },
  {
   "cell_type": "code",
   "execution_count": 3,
   "metadata": {},
   "outputs": [],
   "source": [
    "#Create fake data using Faker\n",
    "fake_data=Faker()"
   ]
  },
  {
   "cell_type": "raw",
   "metadata": {},
   "source": [
    "We are going to create multiple lists of variables of length 200 and then put it all in one data set."
   ]
  },
  {
   "cell_type": "code",
   "execution_count": 4,
   "metadata": {},
   "outputs": [],
   "source": [
    "#Let's create a list of 200 fake names first\n",
    "def create_names(n):\n",
    "    name=[]\n",
    "    for _ in range(0,n):\n",
    "        name.append(fake_data.name())\n",
    "    return name"
   ]
  },
  {
   "cell_type": "code",
   "execution_count": 6,
   "metadata": {},
   "outputs": [],
   "source": [
    "name=create_names(400000)"
   ]
  },
  {
   "cell_type": "code",
   "execution_count": 7,
   "metadata": {},
   "outputs": [
    {
     "data": {
      "text/plain": [
       "['Deanna Davis',\n",
       " 'Jessica Watts',\n",
       " 'Alicia Mcintosh',\n",
       " 'Robert Gonzalez',\n",
       " 'Barry Blair',\n",
       " 'Luis Valencia',\n",
       " 'Aimee Harrison',\n",
       " 'Brandon Daniel',\n",
       " 'Chelsea Buchanan',\n",
       " 'Jacqueline Martin']"
      ]
     },
     "execution_count": 7,
     "metadata": {},
     "output_type": "execute_result"
    }
   ],
   "source": [
    "name[:10]"
   ]
  },
  {
   "cell_type": "code",
   "execution_count": 8,
   "metadata": {},
   "outputs": [],
   "source": [
    "#Create a list of age from 21 to 98 (integers)\n",
    "age=np.random.randint(21,70,size=400000,dtype='int')"
   ]
  },
  {
   "cell_type": "code",
   "execution_count": 30,
   "metadata": {},
   "outputs": [],
   "source": [
    "# Create a list of randomly picked races from the list of 4 races\n",
    "def create_race(n):\n",
    "    race = []\n",
    "    for _ in range(0, n):\n",
    "        race.append(fake_data.random_element(elements = (\"White\", \"Hispanic\", \"Black\", \"Asian\")))\n",
    "    return race"
   ]
  },
  {
   "cell_type": "code",
   "execution_count": 31,
   "metadata": {},
   "outputs": [],
   "source": [
    "races = create_race(400000)"
   ]
  },
  {
   "cell_type": "code",
   "execution_count": 11,
   "metadata": {},
   "outputs": [],
   "source": [
    "def create_gender(n):\n",
    "    gender = []\n",
    "    for _ in range(0, n):\n",
    "        gender.append(fake_data.random_element(elements = (\"M\", \"F\")))\n",
    "    return gender"
   ]
  },
  {
   "cell_type": "code",
   "execution_count": 12,
   "metadata": {},
   "outputs": [],
   "source": [
    "gender = create_gender(400000)"
   ]
  },
  {
   "cell_type": "code",
   "execution_count": 13,
   "metadata": {},
   "outputs": [],
   "source": [
    "def create_sideeffects(n):\n",
    "    sideEffects = []\n",
    "    for _ in range(0, n):\n",
    "        sideEffects.append(fake_data.random_element(elements = (\"Mild Side Effects\",\"No Side Effects\",\"Moderate Side Effects\",\"Severe Side Effects\",\"Extremely Severe Side Effects\")))\n",
    "    return sideEffects"
   ]
  },
  {
   "cell_type": "code",
   "execution_count": 14,
   "metadata": {},
   "outputs": [],
   "source": [
    "sideEffects = create_sideeffects(400000)"
   ]
  },
  {
   "cell_type": "code",
   "execution_count": 15,
   "metadata": {},
   "outputs": [],
   "source": [
    "# Now, connect all columns into one data set\n",
    "data = pd.DataFrame(list(zip(name,age,races,gender,sideEffects)),\n",
    "                   columns = ['Name','Age','Race','gender','sideEffects'])"
   ]
  },
  {
   "cell_type": "code",
   "execution_count": 16,
   "metadata": {},
   "outputs": [
    {
     "data": {
      "text/html": [
       "<div>\n",
       "<style scoped>\n",
       "    .dataframe tbody tr th:only-of-type {\n",
       "        vertical-align: middle;\n",
       "    }\n",
       "\n",
       "    .dataframe tbody tr th {\n",
       "        vertical-align: top;\n",
       "    }\n",
       "\n",
       "    .dataframe thead th {\n",
       "        text-align: right;\n",
       "    }\n",
       "</style>\n",
       "<table border=\"1\" class=\"dataframe\">\n",
       "  <thead>\n",
       "    <tr style=\"text-align: right;\">\n",
       "      <th></th>\n",
       "      <th>Name</th>\n",
       "      <th>Age</th>\n",
       "      <th>Race</th>\n",
       "      <th>gender</th>\n",
       "      <th>sideEffects</th>\n",
       "    </tr>\n",
       "  </thead>\n",
       "  <tbody>\n",
       "    <tr>\n",
       "      <th>0</th>\n",
       "      <td>Deanna Davis</td>\n",
       "      <td>55</td>\n",
       "      <td>Asian</td>\n",
       "      <td>F</td>\n",
       "      <td>Mild Side Effects</td>\n",
       "    </tr>\n",
       "    <tr>\n",
       "      <th>1</th>\n",
       "      <td>Jessica Watts</td>\n",
       "      <td>60</td>\n",
       "      <td>Asian</td>\n",
       "      <td>M</td>\n",
       "      <td>Severe Side Effects</td>\n",
       "    </tr>\n",
       "    <tr>\n",
       "      <th>2</th>\n",
       "      <td>Alicia Mcintosh</td>\n",
       "      <td>38</td>\n",
       "      <td>Hispanic</td>\n",
       "      <td>M</td>\n",
       "      <td>Severe Side Effects</td>\n",
       "    </tr>\n",
       "    <tr>\n",
       "      <th>3</th>\n",
       "      <td>Robert Gonzalez</td>\n",
       "      <td>43</td>\n",
       "      <td>Black</td>\n",
       "      <td>M</td>\n",
       "      <td>No Side Effects</td>\n",
       "    </tr>\n",
       "    <tr>\n",
       "      <th>4</th>\n",
       "      <td>Barry Blair</td>\n",
       "      <td>55</td>\n",
       "      <td>Hispanic</td>\n",
       "      <td>F</td>\n",
       "      <td>No Side Effects</td>\n",
       "    </tr>\n",
       "  </tbody>\n",
       "</table>\n",
       "</div>"
      ],
      "text/plain": [
       "              Name  Age      Race gender          sideEffects\n",
       "0     Deanna Davis   55     Asian      F    Mild Side Effects\n",
       "1    Jessica Watts   60     Asian      M  Severe Side Effects\n",
       "2  Alicia Mcintosh   38  Hispanic      M  Severe Side Effects\n",
       "3  Robert Gonzalez   43     Black      M      No Side Effects\n",
       "4      Barry Blair   55  Hispanic      F      No Side Effects"
      ]
     },
     "execution_count": 16,
     "metadata": {},
     "output_type": "execute_result"
    }
   ],
   "source": [
    "data.head()"
   ]
  },
  {
   "cell_type": "code",
   "execution_count": 32,
   "metadata": {},
   "outputs": [],
   "source": [
    "#Create a list of countries\n",
    "def create_drugsname(n,data):\n",
    "    drugsname=[]\n",
    "    for _ in range(0,n):\n",
    "        if data[data['sideEffects']==\"No Side Effects\"]:\n",
    "            drugsname.append(fake_data.random_element(elements=('ponstel', 'elavil', 'xanax', 'effexor-xr', 'neurontin', 'dovonex',\n",
    "       'symbicort', 'ativan', 'doxycycline', 'levitra', 'lamictal',\n",
    "       'aldara', 'ortho-tri-cyclen', 'minocycline', 'prevacid', 'sular',\n",
    "       'crestor', 'metformin', 'synthroid', 'zantac', 'fosamax',\n",
    "       'tirosint', 'angeliq', 'imitrex', 'prempro', 'lipitor', 'valtrex',\n",
    "       'femring', 'ultram-er', 'allegra', 'nasonex', 'zoloft', 'serzone',\n",
    "       'naprosyn', 'propecia', 'protonix', 'dexamethasone', 'diazepam',\n",
    "       'celebrex', 'mobic', 'provigil', 'zestoretic', 'spiriva',\n",
    "       'enalapril', 'claritin', 'vivelle-dot', 'augmentin', 'finacea',\n",
    "       'saizen', 'clonazepam', 'tequin', 'lamisil', 'abilify',\n",
    "       'wellbutrin-sr', 'yasmin', 'mirapex', 'clindamycin-topical',\n",
    "       'ambien', 'zmax', 'renova', 'valium', 'ranitidine', 'cymbalta',\n",
    "       'voltaren', 'tetracycline', 'zovirax', 'cipro', 'relpax',\n",
    "       'climara', 'accutane', 'restasis', 'levoxyl', 'buprenorphine',\n",
    "       'fiorinal', 'cytomel', 'premarin', 'topicort', 'fluconazole',\n",
    "       'grifulvin-v', 'triphasil', 'motrin', 'metrogel', 'naproxen',\n",
    "       'tylenol', 'flonase', 'lunesta', 'tambocor', 'clomid',\n",
    "       'armour-thyroid', 'citalopram', 'chantix', 'elidel', 'proscar',\n",
    "       'permapen', 'trimethobenzamide', 'prednisone', 'azopt',\n",
    "       'selegiline', 'retin-a-micro', 'norvasc', 'wellbutrin', 'remeron',\n",
    "       'enbrel', 'differin', 'singulair', 'lexapro', 'macrobid',\n",
    "       'fioricet', 'albuterol', 'trimethoprim', 'baraclude', 'eulexin',\n",
    "       'klaron', 'prinivil', 'accupril', 'remicade', 'galzin', 'ritalin',\n",
    "       'oracea', 'avapro', 'ketorolac', 'zofran', 'meridia', 'innofem',\n",
    "       'retin-a', 'axert', 'ambien-cr', 'prilosec', 'zithromax',\n",
    "       'zyprexa', 'botox', 'adderall', 'reglan', 'micardis', 'clobetasol',\n",
    "       'flexeril', 'prozac', 'nexium', 'hydrocortisone', 'zyrtec',\n",
    "       'niaspan', 'paxil', 'premarin-vaginal', 'fosamax-plus-d', 'hytrin',\n",
    "       'imodium', 'effexor', 'tobramycin', 'ecotrin', 'evista',\n",
    "       'diclofenac', 'hydrochlorothiazide', 'elocon', 'acyclovir',\n",
    "       'estrasorb', 'qvar', 'halcion', 'sonata', 'miralax', 'clarinex',\n",
    "       'evoclin', 'panixine-disperdose', 'ultracet', 'advair-hfa',\n",
    "       'vytorin', 'pristiq', 'amoxil', 'vicodin', 'lorazepam',\n",
    "       'estratest', 'pentasa', 'avita', 'vaniqa', 'tramadol', 'strattera',\n",
    "       'fexofenadine', 'noroxin', 'glucophage', 'zegerid', 'trazodone',\n",
    "       'tenormin', 'naltrexone', 'actos', 'nuvigil', 'ampicillin',\n",
    "       'claripel-cream', 'pravachol', 'atarax', 'isoniazid', 'omnitrope',\n",
    "       'percocet', 'cataflam', 'nasacort', 'prometrium', 'aygestin',\n",
    "       'avelox', 'flovent', 'vasotec', 'morphine', 'rifadin', 'humira',\n",
    "       'asmanex', 'proquin-xr', 'tamiflu', 'sulfasalazine', 'carac',\n",
    "       'diflucan', 'spironolactone', 'vigamox', 'vagifem', 'exelon',\n",
    "       'benicar', 'zocor', 'adipex-p', 'divigel', 'estrace', 'aciphex',\n",
    "       'delestrogen', 'inderal', 'clobex', 'skelaxin', 'zomig',\n",
    "       'adderall-xr', 'polymyxin-b', 'benicar-hct', 'accolate', 'cardura',\n",
    "       'progesterone', 'coreg', 'maxalt', 'cozaar', 'aromasin', 'vyvanse',\n",
    "       'lidex', 'duac', 'wellbutrin-xl', 'nuvaring', 'plavix', 'penlac',\n",
    "       'ventolin-hfa', 'erythra-derm', 'bisoprolol', 'asacol',\n",
    "       'hyoscyamine', 'sarafem', 'emsam', 'alprazolam', 'requip',\n",
    "       'ultram', 'restoril', 'proair-hfa', 'buspar', 'toprol-xl',\n",
    "       'locoid-lipocream', 'actonel', 'metoprolol', 'lotronex',\n",
    "       'sumatriptan', 'zovirax-topical', 'relafen', 'triamcinolone',\n",
    "       'diovan', 'xenical', 'dispermox', 'keflex', 'arimidex', 'azasan',\n",
    "       'quibron-t', 'clarithromycin', 'aricept', 'advair-diskus',\n",
    "       'periogard', 'levothroid', 'lac-hydrin', 'latisse', 'lidocaine',\n",
    "       'depo-provera', 'triaz', 'haldol', 'lumigan', 'temovate',\n",
    "       'nortriptyline', 'metrolotion', 'seasonale', 'neoprofen',\n",
    "       'nystatin', 'catapres', 'methotrexate', 'nizoral', 'provera',\n",
    "       'methadone', 'tapazole', 'cyproheptadine', 'estrostep-fe',\n",
    "       'flomax', 'soltamox', 'efudex', 'nizoral-shampoo', 'doryx',\n",
    "       'metformin-extended-release', 'betamethasone', 'pepcid',\n",
    "       'fluvoxamine', 'ziac', 'desyrel', 'minocin', 'estring',\n",
    "       'aldactone', 'vesicare', 'nasarel', 'seroquel', 'nitrofurantoin',\n",
    "       'cardura-xl', 'enablex', 'deltasone', 'protopic', 'methimazole',\n",
    "       'levaquin', 'topamax', 'zyrtec-d', 'seroquel-xr', 'atenolol',\n",
    "       'nasacort-aq', 'propranolol', 'risperdal-consta')))\n",
    "        elif data[data['sideEffects']==\"Mild Side Effects\"]:\n",
    "            drugsname.append(fake_data.random_element(elements=('enalapril', 'prilosec', 'vyvanse', 'sarafem', 'latisse',\n",
    "       'klonopin', 'effexor', 'lamotrigine', 'lamictal', 'doxycycline',\n",
    "       'actonel', 'provigil', 'ambien', 'wellbutrin', 'propecia',\n",
    "       'imitrex', 'prozac', 'topamax', 'oxycodone', 'oxycontin',\n",
    "       'vicodin', 'zocor', 'estrace', 'meridia', 'cosopt', 'tekturna',\n",
    "       'renova', 'lexapro', 'naproxen', 'levoxyl', 'paxil', 'ambien-cr',\n",
    "       'wellbutrin-xl', 'biaxin', 'spironolactone', 'alendronate',\n",
    "       'tylenol', 'ultram', 'ziana', 'effexor-xr', 'seasonale',\n",
    "       'differin', 'nuvaring', 'motrin', 'mirapex', 'accutane', 'zoloft',\n",
    "       'ortho-tri-cyclen', 'zofran', 'enbrel', 'atarax', 'evista',\n",
    "       'lopressor', 'cymbalta', 'allegra', 'seroquel-xr', 'flexeril',\n",
    "       'alprazolam', 'zomig', 'vagifem', 'benzaclin', 'citalopram',\n",
    "       'chantix', 'prempro', 'mobic', 'valtrex', 'valium', 'tri-luma',\n",
    "       'provera', 'adipex-p', 'seroquel', 'xenical', 'baclofen',\n",
    "       'depo-provera', 'suboxone', 'metformin', 'paxil-cr', 'prevacid',\n",
    "       'amoxil', 'septra', 'tamiflu', 'celebrex', 'claripel-cream',\n",
    "       'lyrica', 'retin-a', 'follistim', 'lortab', 'requip', 'trazodone',\n",
    "       'xalatan', 'percocet', 'oxazepam', 'atenolol', 'norpramin',\n",
    "       'protonix', 'lumigan', 'zithromax', 'celexa', 'prinivil',\n",
    "       'antivert', 'xanax', 'solodyn', 'fexofenadine', 'ritalin-la',\n",
    "       'ventolin-hfa', 'flonase', 'sumatriptan', 'pentasa', 'zyrtec',\n",
    "       'climara', 'ditropan', 'tramadol', 'zegerid', 'wellbutrin-sr',\n",
    "       'remicade', 'retin-a-micro', 'desyrel', 'niaspan', 'avita',\n",
    "       'dysport', 'tarka', 'lo-ovral', 'yasmin', 'hydrochlorothiazide',\n",
    "       'concerta', 'finacea', 'rhinocort', 'synthroid', 'claritin',\n",
    "       'oxybutynin', 'remeron', 'strattera', 'cialis', 'tetracycline',\n",
    "       'amitiza', 'neurontin', 'viagra', 'minocycline', 'plavix',\n",
    "       'lithium-carbonate', 'hyzaar', 'mirtazapine', 'aczone', 'nexium',\n",
    "       'advair-diskus', 'soma', 'premarin', 'metronidazole', 'prednisone',\n",
    "       'tazorac', 'geodon', 'catapres', 'diazepam', 'niacor', 'botox',\n",
    "       'albuterol', 'avodart', 'elavil', 'nasonex', 'coumadin',\n",
    "       'ortho-tri-cyclen-lo', 'voltaren', 'zyrtec-d', 'keppra',\n",
    "       'tussionex', 'adderall', 'plendil', 'ativan', 'aldactone',\n",
    "       'acyclovir', 'nortriptyline', 'minoxidil', 'sulfasalazine',\n",
    "       'avage', 'byetta', 'panixine-disperdose', 'buspar', 'dextrostat',\n",
    "       'triaz', 'fosamax', 'clonazepam', 'metrogel', 'maxalt',\n",
    "       'darvocet-n', 'lorazepam', 'frova', 'tenormin', 'allegra-d',\n",
    "       'ketoconazole', 'selegiline', 'arava', 'methotrexate', 'lunesta',\n",
    "       'proscar', 'xanax-xr', 'prometrium', 'seasonique', 'copaxone',\n",
    "       'restoril', 'duac', 'zmax', 'cefzil', 'doryx', 'cozaar',\n",
    "       'levaquin', 'elidel', 'imuran', 'cipro', 'prograf', 'asacol',\n",
    "       'fluvoxamine', 'zyban', 'proloprim', 'augmentin', 'humira',\n",
    "       'ritalin', 'methadone', 'benicar', 'glucophage', 'estratest',\n",
    "       'lipitor', 'diclofenac', 'hydrocodone-and-acetaminophen',\n",
    "       'propranolol', 'anafranil', 'skelaxin', 'adderall-xr',\n",
    "       'fluconazole', 'restasis', 'prednisolone', 'levora',\n",
    "       'dextroamphetamine', 'elmiron', 'trental', 'symbicort', 'relpax',\n",
    "       'mercaptopurine', 'singulair', 'clarinex', 'omacor', 'lamisil',\n",
    "       'ortho-novum', 'nolvadex', 'vivelle-dot', 'lotrel', 'sotret',\n",
    "       'meperidine', 'climara-pro', 'gonal-f-rff', 'atacand', 'arthrotec',\n",
    "       'pristiq', 'androgel', 'xyrem', 'tirosint', 'innofem',\n",
    "       'penicillin-v', 'detrol-la', 'bystolic', 'sanctura-xr',\n",
    "       'amphetamine', 'depakote', 'detrol', 'azor', 'fiorinal', 'flomax',\n",
    "       'keflex', 'fentanyl', 'lantus', 'metoprolol', 'diflucan',\n",
    "       'vicoprofen', 'ultracet', 'alesse', 'amerge', 'zovirax',\n",
    "       'tofranil-pm', 'dostinex', 'parlodel', 'doxepin',\n",
    "       'medroxyprogesterone', 'carac', 'dilantin', 'trilipix', 'minocin',\n",
    "       'dicyclomine', 'duragesic', 'macrobid', 'levothroid', 'trileptal')))\n",
    "        elif data[data['sideEffects']=='Moderate Side Effects']:\n",
    "            drugsname.append(fake_data.random_element(elements=('flagyl', 'dextroamphetamine', 'protopic', 'sotret',\n",
    "       'retin-a-micro', 'rebif', 'accutane', 'renova', 'celexa',\n",
    "       'spironolactone', 'oracea', 'lexapro', 'tazorac', 'vyvanse',\n",
    "       'claripel-cream', 'neurontin', 'soma', 'lipitor', 'chantix',\n",
    "       'viagra', 'wellbutrin-sr', 'ambien-cr', 'fortaz', 'xyrem',\n",
    "       'anafranil', 'effexor', 'flomax', 'percocet', 'tegretol',\n",
    "       'malarone', 'elavil', 'retin-a', 'phenergan', 'glucophage',\n",
    "       'flexeril', 'topamax', 'keflex', 'biaxin', 'citalopram',\n",
    "       'prilosec', 'aloprim', 'metrogel', 'methotrexate', 'provigil',\n",
    "       'ultracet', 'lorazepam', 'relafen', 'klonopin', 'aldara',\n",
    "       'wellbutrin', 'dispermox', 'zoloft', 'prinivil', 'darvocet-n',\n",
    "       'soltamox', 'zyprexa', 'yasmin', 'cleocin', 'oxycodone', 'prozac',\n",
    "       'maxalt', 'hyzaar', 'allegra', 'cymbalta', 'cipro', 'lyrica',\n",
    "       'seroquel', 'tirosint', 'nystatin', 'adipex-p', 'sulindac',\n",
    "       'valtrex', 'adderall', 'mirtazapine', 'cialis', 'remicade',\n",
    "       'propecia', 'xenical', 'concerta', 'risperdal', 'keppra',\n",
    "       'wellbutrin-xl', 'lunesta', 'paxil', 'imitrex', 'avage', 'zocor',\n",
    "       'avita', 'singulair', 'norvasc', 'advair-diskus', 'armour-thyroid',\n",
    "       'oxycontin', 'seasonique', 'requip', 'effexor-xr', 'zomig',\n",
    "       'asacol', 'alendronate', 'xanax', 'tetracycline', 'claritin',\n",
    "       'tramadol', 'depo-provera', 'diclofenac', 'aromasin', 'lortab',\n",
    "       'clonazepam', 'proquin-xr', 'prempro', 'levora', 'ultram',\n",
    "       'nolvadex', 'sarafem', 'differin', 'doryx', 'strattera',\n",
    "       'diazepam', 'toradol', 'zyrtec', 'amoxil', 'levoxyl',\n",
    "       'doxycycline', 'meridia', 'desyrel', 'nuvaring', 'baclofen',\n",
    "       'panixine-disperdose', 'zegerid', 'zovirax', 'lamisil', 'enbrel',\n",
    "       'vicodin', 'zyrtec-d', 'prednisone', 'diovan', 'efudex', 'nexium',\n",
    "       'warfarin', 'lybrel', 'oxycodone-and-acetaminophen', 'proscar',\n",
    "       'tri-luma', 'periostat', 'carac', 'actonel', 'dostinex',\n",
    "       'dexedrine', 'paxil-cr', 'dapsone', 'diflucan', 'pristiq',\n",
    "       'lamotrigine', 'benzaclin', 'clindamycin', 'minocycline', 'plavix',\n",
    "       'naproxen', 'femhrt', 'prevacid', 'coreg', 'kenalog', 'niaspan',\n",
    "       'evista', 'provera', 'lumigan', 'fosinopril', 'metformin',\n",
    "       'ambien', 'ritalin', 'symbicort', 'nortriptyline', 'flonase',\n",
    "       'lithium-carbonate', 'fioricet', 'depakene', 'corgard', 'copaxone',\n",
    "       'femara', 'prednisolone', 'erythromycin', 'nitrofurantoin',\n",
    "       'symbyax', 'restasis', 'synthroid', 'aricept', 'dilantin', 'zyvox',\n",
    "       'micardis', 'naprosyn', 'vioxx', 'nasonex', 'abilify', 'fosamax',\n",
    "       'tussionex', 'solodyn', 'emsam', 'azelex', 'ortho-tri-cyclen',\n",
    "       'lamictal', 'ecotrin', 'lupron', 'methadone', 'parlodel', 'ativan',\n",
    "       'minocin', 'dilaudid', 'nardil', 'atripla', 'detrol-la', 'triaz',\n",
    "       'benadryl', 'acyclovir', 'sulfasalazine', 'dysport', 'mobic',\n",
    "       'voltaren', 'deltasone', 'periogard', 'climara-pro', 'selegiline',\n",
    "       'clomid', 'zyban', 'sumatriptan', 'adcirca', 'avelox', 'desonide',\n",
    "       'zofran', 'celebrex', 'adderall-xr', 'climara')))\n",
    "        elif data[data['sideEffects']==\"Severe Side Effects\"]:\n",
    "            drugsname.append(fake_data.random_element(elements=('ortho-tri-cyclen', 'lyrica', 'propecia', 'aldara', 'omnicef',\n",
    "       'nortriptyline', 'depakote', 'zegerid', 'cymbalta', 'vivelle-dot',\n",
    "       'lotrel', 'lipitor', 'accutane', 'singulair', 'zyban', 'caduet',\n",
    "       'prevacid', 'actiq', 'doxycycline', 'topamax', 'lunesta', 'oracea',\n",
    "       'prozac', 'pilocarpine', 'paxil', 'crestor', 'lexapro', 'vivelle',\n",
    "       'renova', 'zyprexa', 'retin-a', 'flexeril', 'solodyn',\n",
    "       'effexor-xr', 'neurontin', 'ativan', 'risperdal', 'xyzal',\n",
    "       'percocet', 'seasonique', 'remeron', 'effexor', 'climara',\n",
    "       'vicodin', 'proscar', 'prednisone', 'biaxin', 'ambien',\n",
    "       'clarithromycin', 'klonopin', 'danazol', 'imitrex',\n",
    "       'phendimetrazine', 'ditropan', 'azelex', 'cleocin', 'aricept',\n",
    "       'amoxil', 'ortho-evra', 'atenolol', 'botox', 'cipro',\n",
    "       'retin-a-micro', 'keflex', 'soma', 'metoclopramide', 'elidel',\n",
    "       'betamethasone', 'levaquin', 'tazorac', 'metronidazole',\n",
    "       'augmentin', 'trazodone', 'minocycline', 'dispermox', 'vyvanse',\n",
    "       'tramadol', 'prinivil', 'levoxyl', 'remicade', 'seroquel',\n",
    "       'vagifem', 'chantix', 'tri-luma', 'symbicort', 'humira',\n",
    "       'nolvadex', 'citalopram', 'zomig', 'voltaren', 'naproxen',\n",
    "       'estrace', 'abilify', 'metformin', 'clindamycin', 'lamictal',\n",
    "       'erythromycin', 'claritin', 'symbyax', 'tamiflu', 'celexa',\n",
    "       'strattera', 'lamisil', 'mirena', 'depo-provera', 'nitrofurantoin',\n",
    "       'byetta', 'zmax', 'desyrel', 'fosamax', 'inspra', 'evista',\n",
    "       'concerta', 'zoloft', 'diltiazem', 'macrobid', 'sotret', 'actonel',\n",
    "       'nuvaring', 'serzone', 'prednisolone', 'cyproheptadine',\n",
    "       'lamotrigine', 'nexium', 'benadryl', 'ribavirin', 'yasmin',\n",
    "       'adipex-p', 'celebrex', 'lasix', 'flagyl', 'micardis', 'niacor',\n",
    "       'oxycodone', 'premarin', 'bactrim-ds', 'malarone', 'allegra',\n",
    "       'fluconazole', 'finacea', 'spironolactone', 'ortho-tri-cyclen-lo',\n",
    "       'wellbutrin-xl', 'betaseron', 'prochlorperazine', 'pristiq',\n",
    "       'aralen', 'lorazepam', 'septra', 'boniva', 'zantac', 'lodine',\n",
    "       'diazepam', 'tegretol', 'mobic', 'zofran', 'xanax', 'pamelor',\n",
    "       'paxil-cr', 'ambien-cr', 'nuvigil', 'elavil', 'zyrtec',\n",
    "       'duragesic', 'panixine-disperdose', 'zithromax', 'ritalin',\n",
    "       'ceclor', 'lupron', 'baciim', 'galzin', 'reglan', 'vistaril',\n",
    "       'methotrexate', 'niaspan', 'detrol-la', 'glucophage-xr')))\n",
    "        elif data[data['sideEffects']==\"Extremely Severe Side Effects\"]:\n",
    "            drugsname.append(fake_data.random_element(elements=('claritin', 'omnicef', 'toradol', 'abilify', 'lyrica', 'provigil',\n",
    "       'spironolactone', 'depo-provera', 'chantix', 'metronidazole',\n",
    "       'celebrex', 'levaquin', 'macrobid', 'prinivil', 'cipro', 'remeron',\n",
    "       'prozac', 'nasonex', 'zoloft', 'avelox', 'paxil', 'lexapro',\n",
    "       'seasonique', 'tramadol', 'permapen', 'fosamax', 'zyban',\n",
    "       'seroquel', 'flagyl', 'norvasc', 'compazine', 'mobic',\n",
    "       'advair-hfa', 'atarax', 'clindamycin', 'noroxin', 'dilaudid',\n",
    "       'yasmin', 'accutane', 'effexor', 'zocor', 'premarin', 'actonel',\n",
    "       'tri-luma', 'cymbalta', 'cleocin', 'zegerid', 'levoxyl', 'asacol',\n",
    "       'mevacor', 'risperdal', 'proquin-xr', 'femring', 'propecia',\n",
    "       'protopic', 'nuvaring', 'zyrtec', 'prednisolone', 'wellbutrin',\n",
    "       'prilosec', 'prednisone', 'prevacid', 'adipex-p', 'topamax',\n",
    "       'neurontin', 'lamotrigine', 'protonix', 'strattera', 'symbicort',\n",
    "       'prempro', 'oxazepam', 'effexor-xr', 'fluconazole', 'naproxen',\n",
    "       'adderall-xr', 'lopressor', 'ceclor', 'klonopin', 'coumadin',\n",
    "       'ambien-cr', 'levetiracetam', 'keflex', 'minocycline', 'vytorin',\n",
    "       'morphine', 'ultracet', 'metrogel', 'enbrel', 'bactroban',\n",
    "       'ativan', 'keppra', 'solodyn', 'aricept', 'synthroid', 'inderal',\n",
    "       'lamictal', 'zomig', 'imitrex', 'lipitor', 'xyrem', 'tegretol',\n",
    "       'wellbutrin-xl', 'oxycontin', 'amoxil', 'remicade', 'doxycycline',\n",
    "       'advair-diskus', 'boniva', 'singulair', 'albuterol', 'mirapex')))\n",
    "        return drugsname"
   ]
  },
  {
   "cell_type": "code",
   "execution_count": 33,
   "metadata": {},
   "outputs": [
    {
     "ename": "ValueError",
     "evalue": "The truth value of a DataFrame is ambiguous. Use a.empty, a.bool(), a.item(), a.any() or a.all().",
     "output_type": "error",
     "traceback": [
      "\u001b[1;31m---------------------------------------------------------------------------\u001b[0m",
      "\u001b[1;31mValueError\u001b[0m                                Traceback (most recent call last)",
      "\u001b[1;32m<ipython-input-33-66ffe44e757a>\u001b[0m in \u001b[0;36m<module>\u001b[1;34m\u001b[0m\n\u001b[1;32m----> 1\u001b[1;33m \u001b[0mDrugName\u001b[0m \u001b[1;33m=\u001b[0m \u001b[0mcreate_drugsname\u001b[0m\u001b[1;33m(\u001b[0m\u001b[1;36m400000\u001b[0m\u001b[1;33m,\u001b[0m\u001b[0mdata\u001b[0m\u001b[1;33m)\u001b[0m\u001b[1;33m\u001b[0m\u001b[1;33m\u001b[0m\u001b[0m\n\u001b[0m",
      "\u001b[1;32m<ipython-input-32-eae8069f0300>\u001b[0m in \u001b[0;36mcreate_drugsname\u001b[1;34m(n, data)\u001b[0m\n\u001b[0;32m      3\u001b[0m     \u001b[0mdrugsname\u001b[0m\u001b[1;33m=\u001b[0m\u001b[1;33m[\u001b[0m\u001b[1;33m]\u001b[0m\u001b[1;33m\u001b[0m\u001b[1;33m\u001b[0m\u001b[0m\n\u001b[0;32m      4\u001b[0m     \u001b[1;32mfor\u001b[0m \u001b[0m_\u001b[0m \u001b[1;32min\u001b[0m \u001b[0mrange\u001b[0m\u001b[1;33m(\u001b[0m\u001b[1;36m0\u001b[0m\u001b[1;33m,\u001b[0m\u001b[0mn\u001b[0m\u001b[1;33m)\u001b[0m\u001b[1;33m:\u001b[0m\u001b[1;33m\u001b[0m\u001b[1;33m\u001b[0m\u001b[0m\n\u001b[1;32m----> 5\u001b[1;33m         \u001b[1;32mif\u001b[0m \u001b[0mdata\u001b[0m\u001b[1;33m[\u001b[0m\u001b[0mdata\u001b[0m\u001b[1;33m[\u001b[0m\u001b[1;34m'sideEffects'\u001b[0m\u001b[1;33m]\u001b[0m\u001b[1;33m==\u001b[0m\u001b[1;34m\"No Side Effects\"\u001b[0m\u001b[1;33m]\u001b[0m\u001b[1;33m:\u001b[0m\u001b[1;33m\u001b[0m\u001b[1;33m\u001b[0m\u001b[0m\n\u001b[0m\u001b[0;32m      6\u001b[0m             drugsname.append(fake_data.random_element(elements=('ponstel', 'elavil', 'xanax', 'effexor-xr', 'neurontin', 'dovonex',\n\u001b[0;32m      7\u001b[0m        \u001b[1;34m'symbicort'\u001b[0m\u001b[1;33m,\u001b[0m \u001b[1;34m'ativan'\u001b[0m\u001b[1;33m,\u001b[0m \u001b[1;34m'doxycycline'\u001b[0m\u001b[1;33m,\u001b[0m \u001b[1;34m'levitra'\u001b[0m\u001b[1;33m,\u001b[0m \u001b[1;34m'lamictal'\u001b[0m\u001b[1;33m,\u001b[0m\u001b[1;33m\u001b[0m\u001b[1;33m\u001b[0m\u001b[0m\n",
      "\u001b[1;32m~\\anaconda3\\lib\\site-packages\\pandas\\core\\generic.py\u001b[0m in \u001b[0;36m__nonzero__\u001b[1;34m(self)\u001b[0m\n\u001b[0;32m   1476\u001b[0m \u001b[1;33m\u001b[0m\u001b[0m\n\u001b[0;32m   1477\u001b[0m     \u001b[1;32mdef\u001b[0m \u001b[0m__nonzero__\u001b[0m\u001b[1;33m(\u001b[0m\u001b[0mself\u001b[0m\u001b[1;33m)\u001b[0m\u001b[1;33m:\u001b[0m\u001b[1;33m\u001b[0m\u001b[1;33m\u001b[0m\u001b[0m\n\u001b[1;32m-> 1478\u001b[1;33m         raise ValueError(\n\u001b[0m\u001b[0;32m   1479\u001b[0m             \u001b[1;34mf\"The truth value of a {type(self).__name__} is ambiguous. \"\u001b[0m\u001b[1;33m\u001b[0m\u001b[1;33m\u001b[0m\u001b[0m\n\u001b[0;32m   1480\u001b[0m             \u001b[1;34m\"Use a.empty, a.bool(), a.item(), a.any() or a.all().\"\u001b[0m\u001b[1;33m\u001b[0m\u001b[1;33m\u001b[0m\u001b[0m\n",
      "\u001b[1;31mValueError\u001b[0m: The truth value of a DataFrame is ambiguous. Use a.empty, a.bool(), a.item(), a.any() or a.all()."
     ]
    }
   ],
   "source": [
    "DrugName = create_drugsname(400000,data)"
   ]
  },
  {
   "cell_type": "code",
   "execution_count": null,
   "metadata": {},
   "outputs": [],
   "source": []
  }
 ],
 "metadata": {
  "kernelspec": {
   "display_name": "Python 3",
   "language": "python",
   "name": "python3"
  },
  "language_info": {
   "codemirror_mode": {
    "name": "ipython",
    "version": 3
   },
   "file_extension": ".py",
   "mimetype": "text/x-python",
   "name": "python",
   "nbconvert_exporter": "python",
   "pygments_lexer": "ipython3",
   "version": "3.8.3"
  }
 },
 "nbformat": 4,
 "nbformat_minor": 4
}
