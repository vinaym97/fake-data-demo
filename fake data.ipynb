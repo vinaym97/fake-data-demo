{
 "cells": [
  {
   "cell_type": "code",
   "execution_count": 4,
   "metadata": {},
   "outputs": [
    {
     "ename": "AttributeError",
     "evalue": "partially initialized module 'pandas' has no attribute 'compat' (most likely due to a circular import)",
     "output_type": "error",
     "traceback": [
      "\u001b[1;31m---------------------------------------------------------------------------\u001b[0m",
      "\u001b[1;31mAttributeError\u001b[0m                            Traceback (most recent call last)",
      "\u001b[1;32m<ipython-input-4-59ab05e21164>\u001b[0m in \u001b[0;36m<module>\u001b[1;34m\u001b[0m\n\u001b[0;32m      1\u001b[0m \u001b[1;32mimport\u001b[0m \u001b[0mnumpy\u001b[0m \u001b[1;32mas\u001b[0m \u001b[0mnp\u001b[0m\u001b[1;33m\u001b[0m\u001b[1;33m\u001b[0m\u001b[0m\n\u001b[1;32m----> 2\u001b[1;33m \u001b[1;32mimport\u001b[0m \u001b[0mpandas\u001b[0m \u001b[1;32mas\u001b[0m \u001b[0mpd\u001b[0m\u001b[1;33m\u001b[0m\u001b[1;33m\u001b[0m\u001b[0m\n\u001b[0m",
      "\u001b[1;32m~\\anaconda3\\lib\\site-packages\\pandas\\__init__.py\u001b[0m in \u001b[0;36m<module>\u001b[1;34m\u001b[0m\n\u001b[0;32m    191\u001b[0m \u001b[1;31m# GH 27101\u001b[0m\u001b[1;33m\u001b[0m\u001b[1;33m\u001b[0m\u001b[1;33m\u001b[0m\u001b[0m\n\u001b[0;32m    192\u001b[0m \u001b[1;31m# TODO: remove Panel compat in 1.0\u001b[0m\u001b[1;33m\u001b[0m\u001b[1;33m\u001b[0m\u001b[1;33m\u001b[0m\u001b[0m\n\u001b[1;32m--> 193\u001b[1;33m \u001b[1;32mif\u001b[0m \u001b[0mpandas\u001b[0m\u001b[1;33m.\u001b[0m\u001b[0mcompat\u001b[0m\u001b[1;33m.\u001b[0m\u001b[0mPY37\u001b[0m\u001b[1;33m:\u001b[0m\u001b[1;33m\u001b[0m\u001b[1;33m\u001b[0m\u001b[0m\n\u001b[0m\u001b[0;32m    194\u001b[0m \u001b[1;33m\u001b[0m\u001b[0m\n\u001b[0;32m    195\u001b[0m     \u001b[1;32mdef\u001b[0m \u001b[0m__getattr__\u001b[0m\u001b[1;33m(\u001b[0m\u001b[0mname\u001b[0m\u001b[1;33m)\u001b[0m\u001b[1;33m:\u001b[0m\u001b[1;33m\u001b[0m\u001b[1;33m\u001b[0m\u001b[0m\n",
      "\u001b[1;31mAttributeError\u001b[0m: partially initialized module 'pandas' has no attribute 'compat' (most likely due to a circular import)"
     ]
    }
   ],
   "source": [
    "import numpy as np\n",
    "import pandas as pd"
   ]
  },
  {
   "cell_type": "code",
   "execution_count": 4,
   "metadata": {},
   "outputs": [
    {
     "ename": "FileNotFoundError",
     "evalue": "[WinError 3] The system cannot find the path specified: '../input'",
     "output_type": "error",
     "traceback": [
      "\u001b[1;31m---------------------------------------------------------------------------\u001b[0m",
      "\u001b[1;31mFileNotFoundError\u001b[0m                         Traceback (most recent call last)",
      "\u001b[1;32m<ipython-input-4-a7cf4ce3b0bb>\u001b[0m in \u001b[0;36m<module>\u001b[1;34m\u001b[0m\n\u001b[0;32m      1\u001b[0m \u001b[1;32mimport\u001b[0m \u001b[0mos\u001b[0m\u001b[1;33m\u001b[0m\u001b[1;33m\u001b[0m\u001b[0m\n\u001b[1;32m----> 2\u001b[1;33m \u001b[0mprint\u001b[0m\u001b[1;33m(\u001b[0m\u001b[0mos\u001b[0m\u001b[1;33m.\u001b[0m\u001b[0mlistdir\u001b[0m\u001b[1;33m(\u001b[0m\u001b[1;34m\"../input\"\u001b[0m\u001b[1;33m)\u001b[0m\u001b[1;33m)\u001b[0m\u001b[1;33m\u001b[0m\u001b[1;33m\u001b[0m\u001b[0m\n\u001b[0m",
      "\u001b[1;31mFileNotFoundError\u001b[0m: [WinError 3] The system cannot find the path specified: '../input'"
     ]
    }
   ],
   "source": [
    "import os\n",
    "print(os.listdir(\"../input\"))"
   ]
  },
  {
   "cell_type": "code",
   "execution_count": 3,
   "metadata": {},
   "outputs": [
    {
     "name": "stdout",
     "output_type": "stream",
     "text": [
      "Collecting Faker\n",
      "  Downloading Faker-6.5.0-py3-none-any.whl (1.1 MB)\n",
      "Requirement already satisfied: python-dateutil>=2.4 in c:\\users\\vinay\\anaconda3\\lib\\site-packages (from Faker) (2.8.1)\n",
      "Collecting text-unidecode==1.3\n",
      "  Downloading text_unidecode-1.3-py2.py3-none-any.whl (78 kB)\n",
      "Requirement already satisfied: six>=1.5 in c:\\users\\vinay\\anaconda3\\lib\\site-packages (from python-dateutil>=2.4->Faker) (1.15.0)\n",
      "Installing collected packages: text-unidecode, Faker\n",
      "Successfully installed Faker-6.5.0 text-unidecode-1.3\n"
     ]
    }
   ],
   "source": [
    "!pip install Faker"
   ]
  },
  {
   "cell_type": "code",
   "execution_count": null,
   "metadata": {},
   "outputs": [],
   "source": [
    "from faker import Faker"
   ]
  },
  {
   "cell_type": "markdown",
   "metadata": {},
   "source": [
    "Creating a dataset"
   ]
  },
  {
   "cell_type": "code",
   "execution_count": null,
   "metadata": {},
   "outputs": [],
   "source": [
    "#Create fake data using Faker\n",
    "fake_data=Faker()"
   ]
  },
  {
   "cell_type": "raw",
   "metadata": {},
   "source": [
    "We are going to create multiple lists of variables of length 200 and then put it all in one data set."
   ]
  },
  {
   "cell_type": "code",
   "execution_count": null,
   "metadata": {},
   "outputs": [],
   "source": [
    "#Let's create a list of 200 fake names first\n",
    "def create_names(n):\n",
    "    name=[]\n",
    "    for _ in range(0,n):\n",
    "        name.append(fake_data.name())\n",
    "    return name"
   ]
  },
  {
   "cell_type": "code",
   "execution_count": null,
   "metadata": {},
   "outputs": [],
   "source": [
    "name=create_names(200)"
   ]
  },
  {
   "cell_type": "code",
   "execution_count": null,
   "metadata": {},
   "outputs": [],
   "source": [
    "name[:10]"
   ]
  },
  {
   "cell_type": "code",
   "execution_count": null,
   "metadata": {},
   "outputs": [],
   "source": [
    "#Create a list of countries\n",
    "def create_country(n):\n",
    "    nation=[]\n",
    "    for _ in range(0,n):\n",
    "        nation.append(fake_data.country())\n",
    "    return nation"
   ]
  },
  {
   "cell_type": "code",
   "execution_count": null,
   "metadata": {},
   "outputs": [],
   "source": [
    "country=create_country(200)"
   ]
  },
  {
   "cell_type": "code",
   "execution_count": 14,
   "metadata": {},
   "outputs": [
    {
     "data": {
      "text/plain": [
       "['Germany',\n",
       " 'Seychelles',\n",
       " 'Saint Lucia',\n",
       " 'Benin',\n",
       " 'Zambia',\n",
       " 'China',\n",
       " 'Micronesia',\n",
       " 'Nicaragua',\n",
       " 'Serbia',\n",
       " 'American Samoa']"
      ]
     },
     "execution_count": 14,
     "metadata": {},
     "output_type": "execute_result"
    }
   ],
   "source": [
    "country[:10]"
   ]
  },
  {
   "cell_type": "code",
   "execution_count": 16,
   "metadata": {},
   "outputs": [],
   "source": [
    "#Create a list of age from 21 to 98 (integers)\n",
    "age=np.random.randint(21,99,size=200,dtype='int')"
   ]
  },
  {
   "cell_type": "code",
   "execution_count": 17,
   "metadata": {},
   "outputs": [],
   "source": [
    "#Create a list to fake dates\n",
    "def create_date(n):\n",
    "    member_since=[]\n",
    "    for _ in range(0,n):\n",
    "        member_since.append(fake_data.date_this_century())\n",
    "    return member_since"
   ]
  },
  {
   "cell_type": "code",
   "execution_count": 18,
   "metadata": {},
   "outputs": [],
   "source": [
    "date=create_date(200)"
   ]
  },
  {
   "cell_type": "code",
   "execution_count": 19,
   "metadata": {},
   "outputs": [],
   "source": [
    "#create a list of fake jobs\n",
    "def create_job(n):\n",
    "    job=[]\n",
    "    for _ in range(0,n):\n",
    "        job.append(fake_data.job())\n",
    "    return job"
   ]
  },
  {
   "cell_type": "code",
   "execution_count": 20,
   "metadata": {},
   "outputs": [],
   "source": [
    "occupation=create_job(200)"
   ]
  },
  {
   "cell_type": "code",
   "execution_count": 21,
   "metadata": {},
   "outputs": [],
   "source": [
    "#Create a list of fake credit card types\n",
    "def create_credit(n):\n",
    "    card=[]\n",
    "    for _ in range(0,n):\n",
    "        card.append(fake_data.credit_card_provider())\n",
    "    return card"
   ]
  },
  {
   "cell_type": "code",
   "execution_count": 22,
   "metadata": {},
   "outputs": [],
   "source": [
    "card=create_credit(200)"
   ]
  },
  {
   "cell_type": "code",
   "execution_count": 23,
   "metadata": {},
   "outputs": [],
   "source": [
    "# Create a fake location in US\n",
    "def create_location(n):\n",
    "    location = []\n",
    "    for _ in range(0, n):\n",
    "        location.append(fake_data.local_latlng(country_code = \"US\"))\n",
    "    return location"
   ]
  },
  {
   "cell_type": "code",
   "execution_count": 24,
   "metadata": {},
   "outputs": [],
   "source": [
    "location = create_location(200)"
   ]
  },
  {
   "cell_type": "code",
   "execution_count": 25,
   "metadata": {},
   "outputs": [],
   "source": [
    "# Create a list of values 0 and 1, where 1 = married\n",
    "married = np.random.randint(0,2, size = 200)"
   ]
  },
  {
   "cell_type": "code",
   "execution_count": 26,
   "metadata": {},
   "outputs": [],
   "source": [
    "# Create a list of randomly picked races from the list of 4 races\n",
    "def create_race(n):\n",
    "    race = []\n",
    "    for _ in range(0, n):\n",
    "        race.append(fake_data.random_element(elements = (\"White\", \"Hispanic\", \"Black\", \"Asian\")))\n",
    "    return race"
   ]
  },
  {
   "cell_type": "code",
   "execution_count": 27,
   "metadata": {},
   "outputs": [],
   "source": [
    "races = create_race(200)"
   ]
  },
  {
   "cell_type": "code",
   "execution_count": 28,
   "metadata": {},
   "outputs": [],
   "source": [
    "# Now create 3 list of integers just to have some numerical data\n",
    "salary = np.random.randint(10000, 120000, size = 200, dtype = 'int')\n",
    "savings = np.random.randint(0, 50000, size = 200, dtype = 'int')\n",
    "rent = np.random.randint(500, 3001, size = 200, dtype = 'int')"
   ]
  },
  {
   "cell_type": "code",
   "execution_count": 29,
   "metadata": {},
   "outputs": [],
   "source": [
    "# Now, connect all columns into one data set\n",
    "data = pd.DataFrame(list(zip(name, country, age, date, occupation, card, location, married,\n",
    "                            races, salary, savings, rent)),\n",
    "                   columns = ['Name', 'Place_of_Birth', 'Age', 'Member_Since', 'Job',\n",
    "                              'Card', 'Location', 'Married', 'Race', 'Salary', 'Savings',\n",
    "                              'Rent'])"
   ]
  },
  {
   "cell_type": "code",
   "execution_count": 30,
   "metadata": {},
   "outputs": [
    {
     "data": {
      "text/html": [
       "<div>\n",
       "<style scoped>\n",
       "    .dataframe tbody tr th:only-of-type {\n",
       "        vertical-align: middle;\n",
       "    }\n",
       "\n",
       "    .dataframe tbody tr th {\n",
       "        vertical-align: top;\n",
       "    }\n",
       "\n",
       "    .dataframe thead th {\n",
       "        text-align: right;\n",
       "    }\n",
       "</style>\n",
       "<table border=\"1\" class=\"dataframe\">\n",
       "  <thead>\n",
       "    <tr style=\"text-align: right;\">\n",
       "      <th></th>\n",
       "      <th>Name</th>\n",
       "      <th>Place_of_Birth</th>\n",
       "      <th>Age</th>\n",
       "      <th>Member_Since</th>\n",
       "      <th>Job</th>\n",
       "      <th>Card</th>\n",
       "      <th>Location</th>\n",
       "      <th>Married</th>\n",
       "      <th>Race</th>\n",
       "      <th>Salary</th>\n",
       "      <th>Savings</th>\n",
       "      <th>Rent</th>\n",
       "    </tr>\n",
       "  </thead>\n",
       "  <tbody>\n",
       "    <tr>\n",
       "      <th>0</th>\n",
       "      <td>Daniel Austin</td>\n",
       "      <td>Germany</td>\n",
       "      <td>72</td>\n",
       "      <td>2012-10-03</td>\n",
       "      <td>Public affairs consultant</td>\n",
       "      <td>VISA 19 digit</td>\n",
       "      <td>(45.0408, -93.263, Columbia Heights, US, Ameri...</td>\n",
       "      <td>0</td>\n",
       "      <td>Asian</td>\n",
       "      <td>47508</td>\n",
       "      <td>48473</td>\n",
       "      <td>2940</td>\n",
       "    </tr>\n",
       "    <tr>\n",
       "      <th>1</th>\n",
       "      <td>Colton Meyer</td>\n",
       "      <td>Seychelles</td>\n",
       "      <td>71</td>\n",
       "      <td>2000-10-31</td>\n",
       "      <td>Translator</td>\n",
       "      <td>VISA 16 digit</td>\n",
       "      <td>(41.66394, -83.55521, Toledo, US, America/New_...</td>\n",
       "      <td>0</td>\n",
       "      <td>Hispanic</td>\n",
       "      <td>40111</td>\n",
       "      <td>6329</td>\n",
       "      <td>1361</td>\n",
       "    </tr>\n",
       "    <tr>\n",
       "      <th>2</th>\n",
       "      <td>Joseph Davis</td>\n",
       "      <td>Saint Lucia</td>\n",
       "      <td>52</td>\n",
       "      <td>2000-05-23</td>\n",
       "      <td>International aid/development worker</td>\n",
       "      <td>JCB 15 digit</td>\n",
       "      <td>(28.90054, -81.26367, Deltona, US, America/New...</td>\n",
       "      <td>0</td>\n",
       "      <td>White</td>\n",
       "      <td>18467</td>\n",
       "      <td>39048</td>\n",
       "      <td>2373</td>\n",
       "    </tr>\n",
       "    <tr>\n",
       "      <th>3</th>\n",
       "      <td>Chase Keller</td>\n",
       "      <td>Benin</td>\n",
       "      <td>53</td>\n",
       "      <td>2002-07-23</td>\n",
       "      <td>Herpetologist</td>\n",
       "      <td>American Express</td>\n",
       "      <td>(41.66394, -83.55521, Toledo, US, America/New_...</td>\n",
       "      <td>1</td>\n",
       "      <td>Hispanic</td>\n",
       "      <td>93190</td>\n",
       "      <td>32141</td>\n",
       "      <td>1749</td>\n",
       "    </tr>\n",
       "    <tr>\n",
       "      <th>4</th>\n",
       "      <td>Scott Bailey</td>\n",
       "      <td>Zambia</td>\n",
       "      <td>53</td>\n",
       "      <td>2019-08-13</td>\n",
       "      <td>Advice worker</td>\n",
       "      <td>JCB 16 digit</td>\n",
       "      <td>(40.24537, -75.64963, Pottstown, US, America/N...</td>\n",
       "      <td>1</td>\n",
       "      <td>Black</td>\n",
       "      <td>85361</td>\n",
       "      <td>22755</td>\n",
       "      <td>2143</td>\n",
       "    </tr>\n",
       "  </tbody>\n",
       "</table>\n",
       "</div>"
      ],
      "text/plain": [
       "            Name Place_of_Birth  Age Member_Since  \\\n",
       "0  Daniel Austin        Germany   72   2012-10-03   \n",
       "1   Colton Meyer     Seychelles   71   2000-10-31   \n",
       "2   Joseph Davis    Saint Lucia   52   2000-05-23   \n",
       "3   Chase Keller          Benin   53   2002-07-23   \n",
       "4   Scott Bailey         Zambia   53   2019-08-13   \n",
       "\n",
       "                                    Job              Card  \\\n",
       "0             Public affairs consultant     VISA 19 digit   \n",
       "1                            Translator     VISA 16 digit   \n",
       "2  International aid/development worker      JCB 15 digit   \n",
       "3                         Herpetologist  American Express   \n",
       "4                         Advice worker      JCB 16 digit   \n",
       "\n",
       "                                            Location  Married      Race  \\\n",
       "0  (45.0408, -93.263, Columbia Heights, US, Ameri...        0     Asian   \n",
       "1  (41.66394, -83.55521, Toledo, US, America/New_...        0  Hispanic   \n",
       "2  (28.90054, -81.26367, Deltona, US, America/New...        0     White   \n",
       "3  (41.66394, -83.55521, Toledo, US, America/New_...        1  Hispanic   \n",
       "4  (40.24537, -75.64963, Pottstown, US, America/N...        1     Black   \n",
       "\n",
       "   Salary  Savings  Rent  \n",
       "0   47508    48473  2940  \n",
       "1   40111     6329  1361  \n",
       "2   18467    39048  2373  \n",
       "3   93190    32141  1749  \n",
       "4   85361    22755  2143  "
      ]
     },
     "execution_count": 30,
     "metadata": {},
     "output_type": "execute_result"
    }
   ],
   "source": [
    "# Let's see how the data looks like\n",
    "data.head()"
   ]
  },
  {
   "cell_type": "code",
   "execution_count": 31,
   "metadata": {},
   "outputs": [
    {
     "name": "stdout",
     "output_type": "stream",
     "text": [
      "<class 'pandas.core.frame.DataFrame'>\n",
      "RangeIndex: 200 entries, 0 to 199\n",
      "Data columns (total 12 columns):\n",
      " #   Column          Non-Null Count  Dtype \n",
      "---  ------          --------------  ----- \n",
      " 0   Name            200 non-null    object\n",
      " 1   Place_of_Birth  200 non-null    object\n",
      " 2   Age             200 non-null    int64 \n",
      " 3   Member_Since    200 non-null    object\n",
      " 4   Job             200 non-null    object\n",
      " 5   Card            200 non-null    object\n",
      " 6   Location        200 non-null    object\n",
      " 7   Married         200 non-null    int64 \n",
      " 8   Race            200 non-null    object\n",
      " 9   Salary          200 non-null    int64 \n",
      " 10  Savings         200 non-null    int64 \n",
      " 11  Rent            200 non-null    int64 \n",
      "dtypes: int64(5), object(7)\n",
      "memory usage: 18.9+ KB\n"
     ]
    }
   ],
   "source": [
    "data.info()"
   ]
  },
  {
   "cell_type": "code",
   "execution_count": 32,
   "metadata": {},
   "outputs": [],
   "source": [
    "# Perfect, let's create another set based on time\n",
    "datelist = pd.date_range('2010-01-01', periods = 200)\n",
    "sales = np.random.randint(100, 1100, size = 200, dtype = 'int')\n",
    "profit = np.random.uniform(10000, 1000000, size = 200)\n",
    "\n",
    "data2 = pd.DataFrame(list(zip(datelist, sales, profit)),\n",
    "                   columns = ['Date', 'Sales', 'Profit'])"
   ]
  },
  {
   "cell_type": "code",
   "execution_count": 33,
   "metadata": {},
   "outputs": [
    {
     "data": {
      "text/html": [
       "<div>\n",
       "<style scoped>\n",
       "    .dataframe tbody tr th:only-of-type {\n",
       "        vertical-align: middle;\n",
       "    }\n",
       "\n",
       "    .dataframe tbody tr th {\n",
       "        vertical-align: top;\n",
       "    }\n",
       "\n",
       "    .dataframe thead th {\n",
       "        text-align: right;\n",
       "    }\n",
       "</style>\n",
       "<table border=\"1\" class=\"dataframe\">\n",
       "  <thead>\n",
       "    <tr style=\"text-align: right;\">\n",
       "      <th></th>\n",
       "      <th>Date</th>\n",
       "      <th>Sales</th>\n",
       "      <th>Profit</th>\n",
       "    </tr>\n",
       "  </thead>\n",
       "  <tbody>\n",
       "    <tr>\n",
       "      <th>0</th>\n",
       "      <td>2010-01-01</td>\n",
       "      <td>447</td>\n",
       "      <td>959779.136655</td>\n",
       "    </tr>\n",
       "    <tr>\n",
       "      <th>1</th>\n",
       "      <td>2010-01-02</td>\n",
       "      <td>178</td>\n",
       "      <td>11951.206466</td>\n",
       "    </tr>\n",
       "    <tr>\n",
       "      <th>2</th>\n",
       "      <td>2010-01-03</td>\n",
       "      <td>794</td>\n",
       "      <td>341907.025072</td>\n",
       "    </tr>\n",
       "    <tr>\n",
       "      <th>3</th>\n",
       "      <td>2010-01-04</td>\n",
       "      <td>623</td>\n",
       "      <td>653222.613879</td>\n",
       "    </tr>\n",
       "    <tr>\n",
       "      <th>4</th>\n",
       "      <td>2010-01-05</td>\n",
       "      <td>1013</td>\n",
       "      <td>865967.636494</td>\n",
       "    </tr>\n",
       "  </tbody>\n",
       "</table>\n",
       "</div>"
      ],
      "text/plain": [
       "        Date  Sales         Profit\n",
       "0 2010-01-01    447  959779.136655\n",
       "1 2010-01-02    178   11951.206466\n",
       "2 2010-01-03    794  341907.025072\n",
       "3 2010-01-04    623  653222.613879\n",
       "4 2010-01-05   1013  865967.636494"
      ]
     },
     "execution_count": 33,
     "metadata": {},
     "output_type": "execute_result"
    }
   ],
   "source": [
    "data2.head()"
   ]
  },
  {
   "cell_type": "code",
   "execution_count": 34,
   "metadata": {},
   "outputs": [],
   "source": [
    "data.to_excel(r'C:\\Users\\Vinay\\Downloads\\Untitled Folder\\identification.xlsx', index = False)"
   ]
  },
  {
   "cell_type": "code",
   "execution_count": null,
   "metadata": {},
   "outputs": [],
   "source": []
  }
 ],
 "metadata": {
  "kernelspec": {
   "display_name": "Python 3",
   "language": "python",
   "name": "python3"
  },
  "language_info": {
   "codemirror_mode": {
    "name": "ipython",
    "version": 3
   },
   "file_extension": ".py",
   "mimetype": "text/x-python",
   "name": "python",
   "nbconvert_exporter": "python",
   "pygments_lexer": "ipython3",
   "version": "3.8.3"
  }
 },
 "nbformat": 4,
 "nbformat_minor": 4
}
